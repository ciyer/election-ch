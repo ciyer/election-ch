{
 "cells": [
  {
   "cell_type": "code",
   "execution_count": 1,
   "metadata": {
    "collapsed": true
   },
   "outputs": [],
   "source": [
    "import pandas as pd\n",
    "import numpy as np\n",
    "import matplotlib.pyplot as plt\n",
    "import matplotlib\n",
    "matplotlib.style.use('ggplot')\n",
    "%matplotlib inline\n",
    "\n",
    "# Load the data on income and wealth\n",
    "income_and_wealth = pd.read_excel('data/zh-income-wealth.xlsx')\n",
    "income_and_wealth.rename(columns={'BFS_NR': 'municipality', 'GEBIET_NAME': 'municipality_name', 'INDIKATOR_JAHR': 'year'}, inplace=True)\n",
    "\n",
    "# Pick out the series we are interested in : median income\n",
    "income_and_wealth_grouped = income_and_wealth.groupby('INDIKATOR_ID')\n",
    "median_income = income_and_wealth_grouped.get_group(316).rename(columns={'INDIKATOR_VALUE' : 'income'})\n",
    "\n",
    "# Discard the columns we do not care about\n",
    "median_income = median_income[['municipality', 'year', 'municipality_name', 'income']]\n",
    "\n",
    "# Load the data on voting\n",
    "votes = pd.read_csv('data/2015-06-elections-partystrengths/analysis/output/partystrengths.csv')\n",
    "parties = pd.read_csv('data/2015-06-elections-partystrengths/analysis/output/parties.csv')\n",
    "parties.rename(columns={'ID': 'party', 'Abbr_D': 'party_name'}, inplace=True)\n",
    "parties = parties[['party', 'party_name']]\n",
    "\n",
    "df = median_income.merge(votes,\n",
    "    on=['municipality', 'year'], how='inner').merge(parties,\n",
    "    on='party', how='left')"
   ]
  },
  {
   "cell_type": "code",
   "execution_count": null,
   "metadata": {
    "collapsed": true
   },
   "outputs": [],
   "source": []
  }
 ],
 "metadata": {
  "kernelspec": {
   "display_name": "Python 3",
   "language": "python",
   "name": "python3"
  },
  "language_info": {
   "codemirror_mode": {
    "name": "ipython",
    "version": 3
   },
   "file_extension": ".py",
   "mimetype": "text/x-python",
   "name": "python",
   "nbconvert_exporter": "python",
   "pygments_lexer": "ipython3",
   "version": "3.4.3"
  }
 },
 "nbformat": 4,
 "nbformat_minor": 0
}
